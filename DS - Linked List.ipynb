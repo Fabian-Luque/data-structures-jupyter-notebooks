{
 "cells": [
  {
   "cell_type": "markdown",
   "id": "797a3902",
   "metadata": {},
   "source": [
    "# Linked List implementation"
   ]
  },
  {
   "cell_type": "markdown",
   "id": "40453a6d",
   "metadata": {},
   "source": [
    "### First we need a node class"
   ]
  },
  {
   "cell_type": "code",
   "execution_count": 3,
   "id": "3ddfec9a",
   "metadata": {},
   "outputs": [],
   "source": [
    "class Node:\n",
    "    def __init__(self, value):\n",
    "        self.value = value\n",
    "        self.next = None"
   ]
  },
  {
   "cell_type": "markdown",
   "id": "2b01a9e9",
   "metadata": {},
   "source": [
    "### Now, we going to create the Linked List"
   ]
  },
  {
   "cell_type": "code",
   "execution_count": 4,
   "id": "b916f478",
   "metadata": {},
   "outputs": [],
   "source": [
    "class LinkedList:\n",
    "    def __init__(self, head=None):\n",
    "        self.head = head\n",
    "    def append(self, new_node):\n",
    "        current = self.head\n",
    "        if current:\n",
    "            while current.next:\n",
    "                current = current.next\n",
    "            current.next = new_node\n",
    "        else: \n",
    "            self.head = new_node\n",
    "    def delete(self, value):\n",
    "        current = self.head\n",
    "        if current.value == value:\n",
    "            self.head = current.next\n",
    "        else:\n",
    "            while current:\n",
    "                if current.value == value:\n",
    "                    break\n",
    "                prev = current\n",
    "                current = current.next\n",
    "            if current == None:\n",
    "                return\n",
    "            prev.next = current.next\n",
    "            current = None\n",
    "    def insert(self, new_element, position):\n",
    "        count = 1\n",
    "        current = self.head\n",
    "        if position == 1:\n",
    "            new_element.next = self.head\n",
    "            self.head = new_element\n",
    "        while current:\n",
    "            if count+1 == position:\n",
    "                new_element.next = current.next\n",
    "                current.next = new_element\n",
    "                return\n",
    "            else:\n",
    "                count+=1\n",
    "                current = current.next\n",
    "            break\n",
    "        pass\n",
    "    def print(self):\n",
    "        current = self.head\n",
    "        while current:\n",
    "            print(current.value)\n",
    "            current = current.next"
   ]
  },
  {
   "cell_type": "code",
   "execution_count": 5,
   "id": "3f8a21dc",
   "metadata": {},
   "outputs": [],
   "source": [
    "e1 = Node(1)\n",
    "e2 = Node(2)\n",
    "e3 = Node(3)\n",
    "e4 = Node(4)"
   ]
  },
  {
   "cell_type": "code",
   "execution_count": 6,
   "id": "2305432d",
   "metadata": {},
   "outputs": [],
   "source": [
    "ll = LinkedList(e1)"
   ]
  },
  {
   "cell_type": "code",
   "execution_count": 7,
   "id": "d92def4d",
   "metadata": {},
   "outputs": [
    {
     "name": "stdout",
     "output_type": "stream",
     "text": [
      "1\n",
      "2\n",
      "3\n",
      "4\n"
     ]
    }
   ],
   "source": [
    "ll.append(e2)\n",
    "ll.append(e3)\n",
    "ll.append(e4)\n",
    "ll.print()"
   ]
  }
 ],
 "metadata": {
  "kernelspec": {
   "display_name": "Python 3 (ipykernel)",
   "language": "python",
   "name": "python3"
  },
  "language_info": {
   "codemirror_mode": {
    "name": "ipython",
    "version": 3
   },
   "file_extension": ".py",
   "mimetype": "text/x-python",
   "name": "python",
   "nbconvert_exporter": "python",
   "pygments_lexer": "ipython3",
   "version": "3.9.13"
  }
 },
 "nbformat": 4,
 "nbformat_minor": 5
}
