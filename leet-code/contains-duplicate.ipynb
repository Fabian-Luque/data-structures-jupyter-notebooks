{
 "cells": [
  {
   "cell_type": "markdown",
   "metadata": {},
   "source": [
    "# Contains duplicate"
   ]
  },
  {
   "cell_type": "markdown",
   "metadata": {},
   "source": [
    "## implementation with HashTables and Sorting"
   ]
  },
  {
   "cell_type": "markdown",
   "metadata": {},
   "source": [
    "### HashTable"
   ]
  },
  {
   "cell_type": "code",
   "execution_count": 2,
   "metadata": {},
   "outputs": [],
   "source": [
    "from typing import List\n",
    "class Solution:\n",
    "    def containsDuplicate(self, nums: List[int]) -> bool:\n",
    "        seen = {}\n",
    "        for num in nums:\n",
    "            if num in seen and seen[num] >= 1:\n",
    "                return True\n",
    "            seen[num] = seen.get(num, 0) + 1\n",
    "        return False"
   ]
  },
  {
   "cell_type": "code",
   "execution_count": 4,
   "metadata": {},
   "outputs": [
    {
     "name": "stdout",
     "output_type": "stream",
     "text": [
      "True\n",
      "False\n",
      "True\n"
     ]
    }
   ],
   "source": [
    "solution = Solution()\n",
    "print(solution.containsDuplicate([1,2,3,1]))\n",
    "print(solution.containsDuplicate([1,2,3,4]))\n",
    "print(solution.containsDuplicate([1,1,1,3,3,4,3,2,4,2]))"
   ]
  },
  {
   "cell_type": "markdown",
   "metadata": {},
   "source": [
    "### Sorting"
   ]
  },
  {
   "cell_type": "code",
   "execution_count": 16,
   "metadata": {},
   "outputs": [],
   "source": [
    "class Solution2:\n",
    "    def containsDuplicate(self, nums: List[int]) -> bool:\n",
    "        nums.sort() # order list\n",
    "        n = len(nums)\n",
    "        for i in range(1,n):\n",
    "            if nums[1] == nums[i-1]:\n",
    "                return True\n",
    "            return False"
   ]
  },
  {
   "cell_type": "code",
   "execution_count": 17,
   "metadata": {},
   "outputs": [],
   "source": [
    "solution2 = Solution2()"
   ]
  },
  {
   "cell_type": "code",
   "execution_count": 18,
   "metadata": {},
   "outputs": [
    {
     "name": "stdout",
     "output_type": "stream",
     "text": [
      "True\n",
      "False\n",
      "True\n"
     ]
    }
   ],
   "source": [
    "print(solution2.containsDuplicate([1,2,3,1]))\n",
    "print(solution2.containsDuplicate([1,2,3,4]))\n",
    "print(solution2.containsDuplicate([1,1,1,3,3,4,3,2,4,2]))"
   ]
  },
  {
   "cell_type": "markdown",
   "metadata": {},
   "source": [
    "### HashSet"
   ]
  },
  {
   "cell_type": "code",
   "execution_count": 19,
   "metadata": {},
   "outputs": [],
   "source": [
    "class Solution3:\n",
    "    def containsDuplicate(self, nums: List[int]) -> bool:\n",
    "        hashset = set()\n",
    "        for n in nums:\n",
    "            if n in hashset:\n",
    "                return True\n",
    "            hashset.add(n)\n",
    "        return False\n"
   ]
  },
  {
   "cell_type": "code",
   "execution_count": 20,
   "metadata": {},
   "outputs": [
    {
     "name": "stdout",
     "output_type": "stream",
     "text": [
      "True\n",
      "False\n",
      "True\n"
     ]
    }
   ],
   "source": [
    "solution3 = Solution3()\n",
    "print(solution3.containsDuplicate([1,2,3,1]))\n",
    "print(solution3.containsDuplicate([1,2,3,4]))\n",
    "print(solution3.containsDuplicate([1,1,1,3,3,4,3,2,4,2]))"
   ]
  },
  {
   "cell_type": "code",
   "execution_count": null,
   "metadata": {},
   "outputs": [],
   "source": []
  }
 ],
 "metadata": {
  "kernelspec": {
   "display_name": "Python 3",
   "language": "python",
   "name": "python3"
  },
  "language_info": {
   "codemirror_mode": {
    "name": "ipython",
    "version": 3
   },
   "file_extension": ".py",
   "mimetype": "text/x-python",
   "name": "python",
   "nbconvert_exporter": "python",
   "pygments_lexer": "ipython3",
   "version": "3.11.4"
  },
  "orig_nbformat": 4
 },
 "nbformat": 4,
 "nbformat_minor": 2
}
